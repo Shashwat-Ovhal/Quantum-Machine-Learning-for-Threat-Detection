{
  "nbformat": 4,
  "nbformat_minor": 0,
  "metadata": {
    "colab": {
      "provenance": []
    },
    "kernelspec": {
      "name": "python3",
      "display_name": "Python 3"
    },
    "language_info": {
      "name": "python"
    }
  },
  "cells": [
    {
      "cell_type": "code",
      "execution_count": 36,
      "metadata": {
        "colab": {
          "base_uri": "https://localhost:8080/"
        },
        "id": "ZtQD75biGjKQ",
        "outputId": "4bd01648-8a58-424d-db92-d6bd65efae38"
      },
      "outputs": [
        {
          "output_type": "stream",
          "name": "stdout",
          "text": [
            "Requirement already satisfied: pennylane in /usr/local/lib/python3.12/dist-packages (0.42.3)\n",
            "Requirement already satisfied: scipy in /usr/local/lib/python3.12/dist-packages (from pennylane) (1.16.1)\n",
            "Requirement already satisfied: networkx in /usr/local/lib/python3.12/dist-packages (from pennylane) (3.5)\n",
            "Requirement already satisfied: rustworkx>=0.14.0 in /usr/local/lib/python3.12/dist-packages (from pennylane) (0.17.1)\n",
            "Requirement already satisfied: autograd in /usr/local/lib/python3.12/dist-packages (from pennylane) (1.8.0)\n",
            "Requirement already satisfied: appdirs in /usr/local/lib/python3.12/dist-packages (from pennylane) (1.4.4)\n",
            "Requirement already satisfied: autoray<0.8,>=0.6.11 in /usr/local/lib/python3.12/dist-packages (from pennylane) (0.7.2)\n",
            "Requirement already satisfied: cachetools in /usr/local/lib/python3.12/dist-packages (from pennylane) (5.5.2)\n",
            "Requirement already satisfied: pennylane-lightning>=0.42 in /usr/local/lib/python3.12/dist-packages (from pennylane) (0.42.0)\n",
            "Requirement already satisfied: requests in /usr/local/lib/python3.12/dist-packages (from pennylane) (2.32.4)\n",
            "Requirement already satisfied: tomlkit in /usr/local/lib/python3.12/dist-packages (from pennylane) (0.13.3)\n",
            "Requirement already satisfied: typing_extensions in /usr/local/lib/python3.12/dist-packages (from pennylane) (4.15.0)\n",
            "Requirement already satisfied: packaging in /usr/local/lib/python3.12/dist-packages (from pennylane) (25.0)\n",
            "Requirement already satisfied: diastatic-malt in /usr/local/lib/python3.12/dist-packages (from pennylane) (2.15.2)\n",
            "Requirement already satisfied: numpy in /usr/local/lib/python3.12/dist-packages (from pennylane) (2.0.2)\n",
            "Requirement already satisfied: scipy-openblas32>=0.3.26 in /usr/local/lib/python3.12/dist-packages (from pennylane-lightning>=0.42->pennylane) (0.3.30.0.2)\n",
            "Requirement already satisfied: astunparse in /usr/local/lib/python3.12/dist-packages (from diastatic-malt->pennylane) (1.6.3)\n",
            "Requirement already satisfied: gast in /usr/local/lib/python3.12/dist-packages (from diastatic-malt->pennylane) (0.6.0)\n",
            "Requirement already satisfied: termcolor in /usr/local/lib/python3.12/dist-packages (from diastatic-malt->pennylane) (3.1.0)\n",
            "Requirement already satisfied: charset_normalizer<4,>=2 in /usr/local/lib/python3.12/dist-packages (from requests->pennylane) (3.4.3)\n",
            "Requirement already satisfied: idna<4,>=2.5 in /usr/local/lib/python3.12/dist-packages (from requests->pennylane) (3.10)\n",
            "Requirement already satisfied: urllib3<3,>=1.21.1 in /usr/local/lib/python3.12/dist-packages (from requests->pennylane) (2.5.0)\n",
            "Requirement already satisfied: certifi>=2017.4.17 in /usr/local/lib/python3.12/dist-packages (from requests->pennylane) (2025.8.3)\n",
            "Requirement already satisfied: wheel<1.0,>=0.23.0 in /usr/local/lib/python3.12/dist-packages (from astunparse->diastatic-malt->pennylane) (0.45.1)\n",
            "Requirement already satisfied: six<2.0,>=1.6.1 in /usr/local/lib/python3.12/dist-packages (from astunparse->diastatic-malt->pennylane) (1.17.0)\n"
          ]
        }
      ],
      "source": [
        "!pip install pennylane"
      ]
    },
    {
      "cell_type": "markdown",
      "source": [
        " Imports & Global Configuration\n"
      ],
      "metadata": {
        "id": "P1vZ7kaGG1QP"
      }
    },
    {
      "cell_type": "code",
      "source": [
        "# ---------- Imports & Config ----------\n",
        "import os\n",
        "import time\n",
        "import random\n",
        "import math\n",
        "import warnings\n",
        "from functools import partial\n",
        "\n",
        "import numpy as np\n",
        "import pandas as pd\n",
        "from tqdm import tqdm\n",
        "import matplotlib.pyplot as plt\n",
        "import seaborn as sns\n",
        "\n",
        "from sklearn.decomposition import PCA\n",
        "from sklearn.preprocessing import StandardScaler\n",
        "from sklearn.model_selection import StratifiedKFold, train_test_split\n",
        "from sklearn.metrics import (accuracy_score, precision_score, recall_score,\n",
        "                             f1_score, confusion_matrix, roc_curve, auc)\n",
        "\n",
        "import xgboost as xgb\n",
        "\n",
        "import torch\n",
        "import torch.nn as nn\n",
        "import torch.nn.functional as F\n",
        "from torch.utils.data import DataLoader, TensorDataset\n",
        "\n",
        "import pennylane as qml\n",
        "from pennylane import numpy as qnp\n",
        "from pennylane.qnn import TorchLayer\n",
        "\n",
        "warnings.filterwarnings(\"ignore\")\n",
        "sns.set(style=\"whitegrid\")\n",
        "\n",
        "# ---------- Configuration (edit as needed) ----------\n",
        "CONFIG = {\n",
        "    \"seed\": 42,\n",
        "    \"n_samples\": 2000,              # total synthetic sessions\n",
        "    \"seq_len\": 120,                 # number of time-windows per session (e.g., 120 x 1s windows)\n",
        "    \"n_channels\": 10,               # telemetry channels per time window (features)\n",
        "    \"malicious_fraction\": 0.20,     # 20% malicious (approx 4:1 benign:malicious as paper)\n",
        "    \"temporal_drift\": True,         # simulate concept drift over time\n",
        "    \"transformer\": {\n",
        "        \"d_model\": 64,\n",
        "        \"nhead\": 4,\n",
        "        \"num_layers\": 3,\n",
        "        \"dim_feedforward\": 128,\n",
        "        \"dropout\": 0.1,\n",
        "        \"epochs\": 10,               # pretrain epochs for embedding generation (self-supervised)\n",
        "        \"batch_size\": 64,\n",
        "    },\n",
        "    \"pca_n_components\": 16,         # reduce embedding to <= qubits (paper suggests 8-16)\n",
        "    \"vqc\": {\n",
        "        \"n_qubits\": 8,              # recommended in paper\n",
        "        \"ansatz_depth\": 2,\n",
        "        \"shots\": 512,\n",
        "        \"backend\": \"default.qubit\", # 'default.qubit' or 'default.mixed'\n",
        "        \"opt_steps\": 40,            # optimizer steps for VQC training (fold-level)\n",
        "        \"learning_rate\": 0.05,\n",
        "    },\n",
        "    \"classical\": {\n",
        "        \"model\": \"xgboost\",\n",
        "        \"xgb_params\": {\"use_label_encoder\": False, \"eval_metric\": \"logloss\", \"n_estimators\": 200}\n",
        "    },\n",
        "    \"ensemble\": {\n",
        "        \"strategy\": \"weighted\",     # 'weighted' or 'voting'\n",
        "        \"classical_weight\": 0.6,\n",
        "        \"quantum_weight\": 0.4\n",
        "    },\n",
        "    \"cv_folds\": 5,\n",
        "    \"quantum_timeout_sec\": 60.0,    # fallback threshold per-fold (increased for parameter-shift)\n",
        "    \"mitigation_repeats\": 3,        # shot averaging to mitigate measurement noise\n",
        "    \"perform_noisy_run\": True,      # run an additional noisy-simulator experiment (default.mixed)\n",
        "    \"device\": \"cpu\",                # 'cpu' or 'cuda' if available\n",
        "}"
      ],
      "metadata": {
        "id": "sSWDyhPXGvyP"
      },
      "execution_count": 37,
      "outputs": []
    },
    {
      "cell_type": "markdown",
      "source": [
        "Reproducibility"
      ],
      "metadata": {
        "id": "qN0NQf3hHfk5"
      }
    },
    {
      "cell_type": "code",
      "source": [
        "# ---------- Reproducibility ----------\n",
        "def set_seed(seed):\n",
        "    np.random.seed(seed)\n",
        "    random.seed(seed)\n",
        "    torch.manual_seed(seed)\n",
        "    try:\n",
        "        torch.cuda.manual_seed_all(seed)\n",
        "    except Exception:\n",
        "        pass\n",
        "    # qml.set_seed(seed) was removed as it's deprecated. np.random.seed() is sufficient.\n",
        "\n",
        "set_seed(CONFIG[\"seed\"])"
      ],
      "metadata": {
        "id": "kjhkZRM9GwEc"
      },
      "execution_count": 38,
      "outputs": []
    },
    {
      "cell_type": "markdown",
      "source": [
        " Synthetic Dataset Generator"
      ],
      "metadata": {
        "id": "qdIVHj_9Hfam"
      }
    },
    {
      "cell_type": "code",
      "source": [
        "# ---------- Synthetic Dataset Generator (paper-aligned) ----------\n",
        "def generate_synthetic_dataset(cfg):\n",
        "    \"\"\"\n",
        "    Generates:\n",
        "      - X_seq: shape (n_samples, seq_len, n_channels)\n",
        "      - y: binary labels (0 benign, 1 malware)\n",
        "      - timestamps: session start times (for temporal split & drift simulation)\n",
        "      - t_encrypt: encryption start times for positive cases (seconds relative to session start)\n",
        "      - t_detect_groundtruth: true detection times if behavioral signal exists (for evaluation)\n",
        "    This generator implements the adversarial patterns described in the paper:\n",
        "      - mass file writes, rename storms, privilege escalation spikes\n",
        "      - variable lags and obfuscation\n",
        "      - temporal drift: patterns change slowly over time\n",
        "    \"\"\"\n",
        "    n = cfg[\"n_samples\"]\n",
        "    seq_len = cfg[\"seq_len\"]\n",
        "    ch = cfg[\"n_channels\"]\n",
        "    mal_frac = cfg[\"malicious_fraction\"]\n",
        "\n",
        "    n_mal = int(n * mal_frac)\n",
        "    n_ben = n - n_mal\n",
        "\n",
        "    # create timeline (timestamps in seconds); sessions have increasing start times to simulate temporal split\n",
        "    timestamps = np.sort(np.random.uniform(0, n * 10, n))\n",
        "\n",
        "    # benign pattern: smooth low-variance telemetry with occasional small spikes\n",
        "    def gen_benign():\n",
        "        base = np.random.normal(loc=0.0, scale=0.4, size=(seq_len, ch))\n",
        "        # occasional small bursts\n",
        "        for _ in range(np.random.randint(1,4)):\n",
        "            start = np.random.randint(0, seq_len-5)\n",
        "            base[start:start+5] += np.random.normal(0.6, 0.2, size=(5, ch))\n",
        "        return base\n",
        "\n",
        "    # malicious pattern: stealthy pre-encryption phase then ramp up before encryption\n",
        "    def gen_malicious(time_frac):\n",
        "        # time_frac: fraction of time passed (0 to 1) to simulate drift\n",
        "        base = np.random.normal(loc=0.0, scale=0.6, size=(seq_len, ch))\n",
        "        # inject pre-deployment \"stealth\" signals: subtle periodic spikes in some channels\n",
        "        for rep in range(np.random.randint(2,5)):\n",
        "            length = np.random.randint(5, 25)\n",
        "            start = np.random.randint(0, seq_len - length + 1)\n",
        "            # Drift simulation: attacks become slightly more pronounced over time\n",
        "            base[start:start+length] += np.linspace(0.5, 1.5 + 0.5 * time_frac, length)[:, None]\n",
        "        # encryption phase near the end: strong spike across channels\n",
        "        enc_start = int(seq_len * np.random.uniform(0.6, 0.9))\n",
        "        base[enc_start:enc_start+5] += np.random.normal(3.0, 0.5, size=(5, ch))\n",
        "        return base, enc_start\n",
        "\n",
        "    # Construct arrays\n",
        "    X = np.zeros((n, seq_len, ch))\n",
        "    y = np.zeros(n, dtype=int)\n",
        "    t_encrypt = np.full(n, np.nan)\n",
        "    t_detect = np.full(n, np.nan)\n",
        "\n",
        "    # **CORRECTION**: Randomly choose indices for malicious samples to ensure mix\n",
        "    all_indices = np.arange(n)\n",
        "    mal_indices = np.random.choice(all_indices, size=n_mal, replace=False)\n",
        "\n",
        "    for i in range(n):\n",
        "        if i in mal_indices:\n",
        "            # The \"drift\" is now tied to the timestamp, not just the index\n",
        "            time_fraction = timestamps[i] / timestamps.max()\n",
        "            seq, enc_idx = gen_malicious(time_fraction)\n",
        "            X[i, :, :] = seq\n",
        "            y[i] = 1\n",
        "            t_encrypt[i] = enc_idx\n",
        "            lead = np.random.uniform(30, 70)\n",
        "            t_detect[i] = max(0.0, enc_idx - lead)\n",
        "        else:\n",
        "            X[i, :, :] = gen_benign()\n",
        "            y[i] = 0\n",
        "\n",
        "    return X, y, timestamps, t_detect, t_encrypt"
      ],
      "metadata": {
        "id": "0h0LEKRUGwTl"
      },
      "execution_count": 39,
      "outputs": []
    },
    {
      "cell_type": "markdown",
      "source": [
        "Generate & Inspect Dataset"
      ],
      "metadata": {
        "id": "p4WzMjSaHlyD"
      }
    },
    {
      "cell_type": "code",
      "source": [
        "# generate dataset\n",
        "X_seq, y, timestamps, t_detect_gt, t_encrypt_gt = generate_synthetic_dataset(CONFIG)\n",
        "print(\"Generated synthetic dataset:\", X_seq.shape, \"labels:\", np.bincount(y))"
      ],
      "metadata": {
        "colab": {
          "base_uri": "https://localhost:8080/"
        },
        "id": "6ZtszGupGwgJ",
        "outputId": "37bc5ad6-9b4d-4d4f-d1a9-01e7de3b3ca0"
      },
      "execution_count": 40,
      "outputs": [
        {
          "output_type": "stream",
          "name": "stdout",
          "text": [
            "Generated synthetic dataset: (2000, 120, 10) labels: [1600  400]\n"
          ]
        }
      ]
    },
    {
      "cell_type": "markdown",
      "source": [
        "Transformer & Preprocessing Function Definitions"
      ],
      "metadata": {
        "id": "esp_c1AcHmyA"
      }
    },
    {
      "cell_type": "code",
      "source": [
        "# ---------- Preprocessing, CNN embedding, PCA - FINAL REPLACEMENT ----------\n",
        "\n",
        "class SimpleCNNEncoder(nn.Module):\n",
        "    \"\"\"A simple CNN to extract features from time-series data.\"\"\"\n",
        "    def __init__(self, n_channels, out_features=64):\n",
        "        super().__init__()\n",
        "        self.conv1 = nn.Conv1d(in_channels=n_channels, out_channels=16, kernel_size=5, stride=1, padding=2)\n",
        "        self.pool = nn.MaxPool1d(kernel_size=2, stride=2)\n",
        "        self.conv2 = nn.Conv1d(in_channels=16, out_channels=32, kernel_size=5, stride=1, padding=2)\n",
        "        self.fc = nn.Linear(32 * 30, out_features) # 30 is the sequence length after 2 pooling layers\n",
        "\n",
        "    def forward(self, x):\n",
        "        # Input shape: (batch_size, seq_len, n_channels)\n",
        "        # PyTorch Conv1d expects (batch_size, n_channels, seq_len)\n",
        "        x = x.permute(0, 2, 1)\n",
        "\n",
        "        x = self.pool(F.relu(self.conv1(x)))\n",
        "        x = self.pool(F.relu(self.conv2(x)))\n",
        "\n",
        "        # Flatten the output for the linear layer\n",
        "        x = x.view(x.size(0), -1)\n",
        "        x = F.relu(self.fc(x))\n",
        "        return x\n",
        "\n",
        "def train_cnn_get_embeddings(X_seq, cfg):\n",
        "    \"\"\"Trains the CNN encoder and returns embeddings.\"\"\"\n",
        "    device = cfg[\"device\"]\n",
        "    n_samples, seq_len, n_channels = X_seq.shape\n",
        "\n",
        "    # Use the new CNN model\n",
        "    model = SimpleCNNEncoder(n_channels=n_channels, out_features=64).to(device)\n",
        "\n",
        "    optimizer = torch.optim.Adam(model.parameters(), lr=1e-3)\n",
        "    epochs = 10 # CNNs often train faster\n",
        "    batch_size = cfg[\"transformer\"][\"batch_size\"]\n",
        "\n",
        "    ds = TensorDataset(torch.tensor(X_seq, dtype=torch.float32))\n",
        "    dl = DataLoader(ds, batch_size=batch_size, shuffle=True)\n",
        "\n",
        "    model.train()\n",
        "    for ep in range(epochs):\n",
        "        loss_ep = 0.0\n",
        "        for (batch,) in dl:\n",
        "            batch = batch.to(device)\n",
        "            emb = model(batch)\n",
        "\n",
        "            # Simplified self-supervised task: reconstruction loss\n",
        "            decoder = nn.Linear(emb.size(1), n_channels).to(device)\n",
        "            pred = decoder(emb)\n",
        "            target = batch.mean(dim=1)\n",
        "            loss = F.mse_loss(pred, target)\n",
        "\n",
        "            optimizer.zero_grad()\n",
        "            loss.backward()\n",
        "            optimizer.step()\n",
        "            loss_ep += loss.item()\n",
        "        if (ep+1) % 2 == 0 or ep==epochs-1:\n",
        "            print(f\"[CNN Encoder] Epoch {ep+1}/{epochs} loss: {loss_ep/len(dl):.4f}\")\n",
        "\n",
        "    model.eval()\n",
        "    with torch.no_grad():\n",
        "        all_emb = []\n",
        "        for i in range(0, n_samples, batch_size):\n",
        "            batch = torch.tensor(X_seq[i:i+batch_size], dtype=torch.float32).to(device)\n",
        "            emb = model(batch).cpu().numpy()\n",
        "            all_emb.append(emb)\n",
        "        all_emb = np.vstack(all_emb)\n",
        "    return all_emb, model"
      ],
      "metadata": {
        "id": "jLSi5EkNHnmf"
      },
      "execution_count": 41,
      "outputs": []
    },
    {
      "cell_type": "markdown",
      "source": [
        "Generate Embeddings & Apply PCA"
      ],
      "metadata": {
        "id": "j9j1jp8VHoHk"
      }
    },
    {
      "cell_type": "code",
      "source": [
        "# In Cell 7, replace the entire cell with this:\n",
        "\n",
        "print(\"\\nTraining CNN encoder to get embeddings (self-supervised)...\")\n",
        "# This now calls the new CNN function\n",
        "embeddings, cnn_model = train_cnn_get_embeddings(X_seq, CONFIG)\n",
        "print(\"Embeddings shape:\", embeddings.shape)\n",
        "\n",
        "scaler_emb = StandardScaler()\n",
        "emb_s = scaler_emb.fit_transform(embeddings)\n",
        "\n",
        "pca = PCA(n_components=min(CONFIG[\"pca_n_components\"], emb_s.shape[1]))\n",
        "emb_pca = pca.fit_transform(emb_s)\n",
        "print(\"PCA reduced embedding shape:\", emb_pca.shape)"
      ],
      "metadata": {
        "colab": {
          "base_uri": "https://localhost:8080/"
        },
        "id": "LaqH3sREHoY8",
        "outputId": "511fb678-4a53-4aa7-ae43-37d61659873e"
      },
      "execution_count": 42,
      "outputs": [
        {
          "output_type": "stream",
          "name": "stdout",
          "text": [
            "\n",
            "Training CNN encoder to get embeddings (self-supervised)...\n",
            "[CNN Encoder] Epoch 2/10 loss: 0.0729\n",
            "[CNN Encoder] Epoch 4/10 loss: 0.0709\n",
            "[CNN Encoder] Epoch 6/10 loss: 0.0738\n",
            "[CNN Encoder] Epoch 8/10 loss: 0.0716\n",
            "[CNN Encoder] Epoch 10/10 loss: 0.0740\n",
            "Embeddings shape: (2000, 64)\n",
            "PCA reduced embedding shape: (2000, 16)\n"
          ]
        }
      ]
    },
    {
      "cell_type": "markdown",
      "source": [],
      "metadata": {
        "id": "tpqvXRqBHoo7"
      }
    },
    {
      "cell_type": "code",
      "source": [
        "def get_quantum_input_from_embedding(embeddings_pca, n_qubits):\n",
        "    X = embeddings_pca.copy()\n",
        "    minv = X.min(axis=0)\n",
        "    maxv = X.max(axis=0)\n",
        "    rng = maxv - minv\n",
        "    rng[rng == 0] = 1.0\n",
        "    Xn = (X - minv) / rng\n",
        "    Xn = Xn * np.pi\n",
        "    if Xn.shape[1] >= n_qubits:\n",
        "        return Xn[:, :n_qubits]\n",
        "    else:\n",
        "        pad = np.zeros((Xn.shape[0], n_qubits - Xn.shape[1]))\n",
        "        return np.concatenate([Xn, pad], axis=1)\n",
        "\n",
        "X_q_ready = get_quantum_input_from_embedding(emb_pca, CONFIG[\"vqc\"][\"n_qubits\"])\n",
        "print(\"Quantum-ready feature shape:\", X_q_ready.shape)\n",
        "\n",
        "X_classical = emb_pca.copy()"
      ],
      "metadata": {
        "colab": {
          "base_uri": "https://localhost:8080/"
        },
        "id": "5x7WTH4OHo4Q",
        "outputId": "a0adc67a-6ccf-40a7-a1a0-34a24d4c3844"
      },
      "execution_count": 43,
      "outputs": [
        {
          "output_type": "stream",
          "name": "stdout",
          "text": [
            "Quantum-ready feature shape: (2000, 8)\n"
          ]
        }
      ]
    },
    {
      "cell_type": "markdown",
      "source": [],
      "metadata": {
        "id": "Ek1XuvUyHpHY"
      }
    },
    {
      "cell_type": "code",
      "source": [
        "# ---------- Classical baseline (XGBoost) training & CV ----------\n",
        "def compute_metrics(y_true, y_pred, y_prob):\n",
        "    acc = accuracy_score(y_true, y_pred)\n",
        "    prec = precision_score(y_true, y_pred, zero_division=0)\n",
        "    rec = recall_score(y_true, y_pred, zero_division=0)\n",
        "    f1 = f1_score(y_true, y_pred, zero_division=0)\n",
        "    tn, fp, fn, tp = confusion_matrix(y_true, y_pred).ravel()\n",
        "    fpr = fp / (fp + tn) if (fp + tn) > 0 else 0.0\n",
        "    return {\"accuracy\": acc, \"precision\": prec, \"recall\": rec, \"f1\": f1, \"fpr\": fpr}\n",
        "\n",
        "def run_classical_cv(X, y, cfg):\n",
        "    skf = StratifiedKFold(n_splits=cfg[\"cv_folds\"], shuffle=True, random_state=cfg[\"seed\"])\n",
        "    preds = np.zeros(len(y), dtype=int)\n",
        "    probs = np.zeros(len(y))\n",
        "    fold_metrics = []\n",
        "    fold = 0\n",
        "    for train_idx, test_idx in skf.split(X, y):\n",
        "        fold += 1\n",
        "        Xtr, Xte = X[train_idx], X[test_idx]\n",
        "        ytr, yte = y[train_idx], y[test_idx]\n",
        "        model = xgb.XGBClassifier(**cfg[\"classical\"][\"xgb_params\"], random_state=cfg[\"seed\"])\n",
        "        model.fit(Xtr, ytr)\n",
        "        p = model.predict(Xte)\n",
        "        pr = model.predict_proba(Xte)[:, 1]\n",
        "        preds[test_idx] = p\n",
        "        probs[test_idx] = pr\n",
        "        m = compute_metrics(yte, p, pr)\n",
        "        fold_metrics.append(m)\n",
        "        print(f\"[Classical] Fold {fold} metrics: {m}\")\n",
        "    return preds, probs, fold_metrics"
      ],
      "metadata": {
        "id": "M3NuZbNRHpWb"
      },
      "execution_count": 44,
      "outputs": []
    },
    {
      "cell_type": "code",
      "source": [
        "print(\"\\nRunning classical baseline 5-fold CV (Transformer embeddings + XGBoost)...\")\n",
        "cls_preds_cv, cls_probs_cv, cls_fold_metrics = run_classical_cv(X_classical, y, CONFIG)"
      ],
      "metadata": {
        "colab": {
          "base_uri": "https://localhost:8080/"
        },
        "id": "PGrDKNRAI9Tu",
        "outputId": "bea7af7c-f837-4b71-c080-e4c11d562220"
      },
      "execution_count": 45,
      "outputs": [
        {
          "output_type": "stream",
          "name": "stdout",
          "text": [
            "\n",
            "Running classical baseline 5-fold CV (Transformer embeddings + XGBoost)...\n",
            "[Classical] Fold 1 metrics: {'accuracy': 0.955, 'precision': 0.8974358974358975, 'recall': 0.875, 'f1': 0.8860759493670886, 'fpr': np.float64(0.025)}\n",
            "[Classical] Fold 2 metrics: {'accuracy': 0.935, 'precision': 0.8461538461538461, 'recall': 0.825, 'f1': 0.8354430379746836, 'fpr': np.float64(0.0375)}\n",
            "[Classical] Fold 3 metrics: {'accuracy': 0.9475, 'precision': 0.9154929577464789, 'recall': 0.8125, 'f1': 0.8609271523178808, 'fpr': np.float64(0.01875)}\n",
            "[Classical] Fold 4 metrics: {'accuracy': 0.9475, 'precision': 0.927536231884058, 'recall': 0.8, 'f1': 0.8590604026845637, 'fpr': np.float64(0.015625)}\n",
            "[Classical] Fold 5 metrics: {'accuracy': 0.9275, 'precision': 0.8311688311688312, 'recall': 0.8, 'f1': 0.8152866242038217, 'fpr': np.float64(0.040625)}\n"
          ]
        }
      ]
    },
    {
      "cell_type": "code",
      "source": [
        "# ---------- VQC construction as TorchLayer (PennyLane) - FINAL ATTEMPT ----------\n",
        "\n",
        "import pennylane as qml\n",
        "from pennylane.qnn import TorchLayer\n",
        "import torch\n",
        "import torch.nn as nn\n",
        "import torch.nn.functional as F\n",
        "\n",
        "def get_circuit(n_qubits, depth):\n",
        "    \"\"\"\n",
        "    Returns a quantum circuit that returns an expectation value for EACH qubit.\n",
        "    \"\"\"\n",
        "    def circuit(inputs, weights):\n",
        "        # Encode classical features\n",
        "        for i in range(n_qubits):\n",
        "            qml.RY(inputs[i], wires=i)\n",
        "\n",
        "        # Variational layers\n",
        "        for d in range(depth):\n",
        "            for i in range(n_qubits):\n",
        "                qml.Rot(*weights[d, i], wires=i)\n",
        "            for i in range(n_qubits - 1):\n",
        "                qml.CNOT(wires=[i, i + 1])\n",
        "\n",
        "        # Return the expectation value of PauliZ for each qubit. This is the most stable method.\n",
        "        return qml.math.stack([qml.expval(qml.PauliZ(i)) for i in range(n_qubits)])\n",
        "\n",
        "    weight_shapes = {\"weights\": (depth, n_qubits, 3)}\n",
        "    return circuit, weight_shapes\n",
        "\n",
        "\n",
        "class VQCModule(nn.Module):\n",
        "    \"\"\"A PyTorch module that wraps the multi-output PennyLane TorchLayer.\"\"\"\n",
        "    def __init__(self, qlayer, n_qubits):\n",
        "        super().__init__()\n",
        "        self.qlayer = qlayer\n",
        "        # The classical head now maps the n_qubits expectation values to our 2 classes.\n",
        "        self.fc = nn.Linear(n_qubits, 2)\n",
        "\n",
        "    def forward(self, x):\n",
        "        # q_out will have the shape [batch_size, n_qubits]\n",
        "        q_out = self.qlayer(x)\n",
        "\n",
        "        # The classical layer maps from the expectation values to the 2 class logits\n",
        "        logits = self.fc(q_out)\n",
        "\n",
        "        return F.log_softmax(logits, dim=1)"
      ],
      "metadata": {
        "id": "xy3iJCwTI9Xc"
      },
      "execution_count": 46,
      "outputs": []
    },
    {
      "cell_type": "code",
      "source": [
        "# ---------- VQC Training Function - FINAL VERSION ----------\n",
        "\n",
        "from torch.utils.data import DataLoader, TensorDataset\n",
        "\n",
        "def train_vqc(model, X_train, y_train, cfg):\n",
        "    \"\"\"Trains the VQCModule using a standard PyTorch loop.\"\"\"\n",
        "    opt = torch.optim.Adam(model.parameters(), lr=cfg['vqc']['learning_rate'])\n",
        "    loss_fn = nn.NLLLoss()\n",
        "\n",
        "    X_tensor = torch.tensor(X_train, dtype=torch.float32).to(cfg[\"device\"])\n",
        "    y_tensor = torch.tensor(y_train, dtype=torch.long).to(cfg[\"device\"])\n",
        "\n",
        "    dataset = TensorDataset(X_tensor, y_tensor)\n",
        "    dataloader = DataLoader(dataset, batch_size=32, shuffle=True)\n",
        "\n",
        "    model.train()\n",
        "    opt_steps = cfg['vqc']['opt_steps']\n",
        "\n",
        "    print(\"  [VQC Training] Starting...\")\n",
        "    for step in range(opt_steps):\n",
        "        total_loss = 0\n",
        "        for X_batch, y_batch in dataloader:\n",
        "            opt.zero_grad()\n",
        "            outputs = model(X_batch)\n",
        "            loss = loss_fn(outputs, y_batch)\n",
        "            loss.backward()\n",
        "            opt.step()\n",
        "            total_loss += loss.item()\n",
        "\n",
        "        avg_loss = total_loss / len(dataloader)\n",
        "        if (step + 1) % 5 == 0 or step == opt_steps - 1:\n",
        "            print(f\"    Step {step+1}/{opt_steps}, Avg Loss: {avg_loss:.4f}\")\n",
        "\n",
        "    return model"
      ],
      "metadata": {
        "id": "qxHAlbWvpuKq"
      },
      "execution_count": 47,
      "outputs": []
    },
    {
      "cell_type": "code",
      "source": [
        "# ---------- VQC, Ensemble, and CV Execution - FINAL VERSION ----------\n",
        "\n",
        "def run_vqc_cv(X_q, X_classical, y, cls_probs, cfg):\n",
        "    skf = StratifiedKFold(n_splits=cfg[\"cv_folds\"], shuffle=True, random_state=cfg[\"seed\"])\n",
        "    q_preds = np.zeros(len(y), dtype=int)\n",
        "    q_probs = np.zeros(len(y))\n",
        "    q_fold_metrics = []\n",
        "    fold = 0\n",
        "\n",
        "    for train_idx, test_idx in skf.split(X_q, y):\n",
        "        fold += 1\n",
        "        print(f\"\\n[VQC] Fold {fold}\")\n",
        "        Xtr_q, Xte_q = X_q[train_idx], X_q[test_idx]\n",
        "        ytr, yte = y[train_idx], y[test_idx]\n",
        "\n",
        "        try:\n",
        "            vqc_cfg = cfg[\"vqc\"]\n",
        "            circuit_template, weight_shapes = get_circuit(vqc_cfg[\"n_qubits\"], vqc_cfg[\"ansatz_depth\"])\n",
        "            dev_train = qml.device(vqc_cfg[\"backend\"], wires=vqc_cfg[\"n_qubits\"])\n",
        "            dev_eval = qml.device(vqc_cfg[\"backend\"], wires=vqc_cfg[\"n_qubits\"], shots=vqc_cfg[\"shots\"])\n",
        "\n",
        "            qnode_train = qml.QNode(circuit_template, dev_train, interface=\"torch\", diff_method=\"parameter-shift\")\n",
        "            qlayer_train = TorchLayer(qnode_train, weight_shapes)\n",
        "            model_train = VQCModule(qlayer_train, n_qubits=vqc_cfg[\"n_qubits\"]).to(cfg[\"device\"])\n",
        "\n",
        "            trained_model = train_vqc(model_train, Xtr_q, ytr, cfg)\n",
        "\n",
        "            qnode_eval = qml.QNode(circuit_template, dev_eval, interface=\"torch\")\n",
        "            qlayer_eval = TorchLayer(qnode_eval, weight_shapes)\n",
        "            model_eval = VQCModule(qlayer_eval, n_qubits=vqc_cfg[\"n_qubits\"]).to(cfg[\"device\"])\n",
        "            model_eval.load_state_dict(trained_model.state_dict())\n",
        "            model_eval.eval()\n",
        "\n",
        "            with torch.no_grad():\n",
        "                outputs = model_eval(torch.tensor(Xte_q, dtype=torch.float32).to(cfg[\"device\"]))\n",
        "                probs = torch.exp(outputs)[:, 1].cpu().numpy()\n",
        "                preds = (probs >= 0.5).astype(int)\n",
        "\n",
        "            q_preds[test_idx] = preds\n",
        "            q_probs[test_idx] = probs\n",
        "            q_fold_metrics.append(compute_metrics(yte, preds, probs))\n",
        "\n",
        "        except Exception as e:\n",
        "            print(f\"[VQC] Training failed on fold; falling back to classical for this fold. Error: {e}\")\n",
        "            q_preds[test_idx] = (cls_probs[test_idx] >= 0.5).astype(int)\n",
        "            q_probs[test_idx] = cls_probs[test_idx]\n",
        "            q_fold_metrics.append(compute_metrics(yte, q_preds[test_idx], q_probs[test_idx]))\n",
        "            continue\n",
        "\n",
        "    return q_preds, q_probs, q_fold_metrics"
      ],
      "metadata": {
        "id": "Ynkd1nkqI9bS"
      },
      "execution_count": 48,
      "outputs": []
    },
    {
      "cell_type": "code",
      "source": [
        "print(\"\\nRunning VQC 5-fold CV (TorchLayer-based)...\")\n",
        "vqc_preds_cv, vqc_probs_cv, vqc_fold_metrics = run_vqc_cv(X_q_ready, X_classical, y, cls_probs_cv, CONFIG)"
      ],
      "metadata": {
        "colab": {
          "base_uri": "https://localhost:8080/"
        },
        "id": "EKg1pxgnI9ex",
        "outputId": "dfe58b52-f6df-4cc3-fc75-ed75410e300f"
      },
      "execution_count": 49,
      "outputs": [
        {
          "output_type": "stream",
          "name": "stdout",
          "text": [
            "\n",
            "Running VQC 5-fold CV (TorchLayer-based)...\n",
            "\n",
            "[VQC] Fold 1\n",
            "  [VQC Training] Starting...\n",
            "[VQC] Training failed on fold; falling back to classical for this fold. Error: Can't call numpy() on Tensor that requires grad. Use tensor.detach().numpy() instead.\n",
            "\n",
            "[VQC] Fold 2\n",
            "  [VQC Training] Starting...\n",
            "[VQC] Training failed on fold; falling back to classical for this fold. Error: Can't call numpy() on Tensor that requires grad. Use tensor.detach().numpy() instead.\n",
            "\n",
            "[VQC] Fold 3\n",
            "  [VQC Training] Starting...\n",
            "[VQC] Training failed on fold; falling back to classical for this fold. Error: Can't call numpy() on Tensor that requires grad. Use tensor.detach().numpy() instead.\n",
            "\n",
            "[VQC] Fold 4\n",
            "  [VQC Training] Starting...\n",
            "[VQC] Training failed on fold; falling back to classical for this fold. Error: Can't call numpy() on Tensor that requires grad. Use tensor.detach().numpy() instead.\n",
            "\n",
            "[VQC] Fold 5\n",
            "  [VQC Training] Starting...\n",
            "[VQC] Training failed on fold; falling back to classical for this fold. Error: Can't call numpy() on Tensor that requires grad. Use tensor.detach().numpy() instead.\n"
          ]
        }
      ]
    },
    {
      "cell_type": "code",
      "source": [
        "# ---------- Ensemble predictions and fallback ----------\n",
        "def compute_ensemble(cls_probs, vqc_probs, strategy=\"weighted\", w_cls=0.6, w_q=0.4):\n",
        "    if strategy == \"weighted\":\n",
        "        ens_prob = w_cls * cls_probs + w_q * vqc_probs\n",
        "    else:  # voting\n",
        "        ens_prob = (cls_probs + vqc_probs) / 2.0\n",
        "    ens_pred = (ens_prob >= 0.5).astype(int)\n",
        "    return ens_pred.astype(int), ens_prob\n",
        "\n",
        "ens_pred_cv, ens_prob_cv = compute_ensemble(cls_probs_cv, vqc_probs_cv, CONFIG[\"ensemble\"][\"strategy\"],\n",
        "                                            CONFIG[\"ensemble\"][\"classical_weight\"], CONFIG[\"ensemble\"][\"quantum_weight\"])"
      ],
      "metadata": {
        "id": "NhXEGuoNJHia"
      },
      "execution_count": 50,
      "outputs": []
    },
    {
      "cell_type": "code",
      "source": [
        "# ---------- CV Metrics aggregation & print ----------\n",
        "def summarize_fold_metrics(fold_metrics):\n",
        "    df = pd.DataFrame(fold_metrics)\n",
        "    mean = df.mean().round(4)\n",
        "    std = df.std().round(4)\n",
        "    summary = pd.concat([mean, std], axis=1)\n",
        "    summary.columns = [\"mean\", \"std\"]\n",
        "    return summary\n",
        "\n",
        "print(\"\\n--- Cross-Validation Summaries ---\")\n",
        "print(\"Classical (folds):\")\n",
        "print(summarize_fold_metrics(cls_fold_metrics))\n",
        "print(\"\\nQuantum (folds):\")\n",
        "print(summarize_fold_metrics(vqc_fold_metrics))\n",
        "\n",
        "cls_metrics_all = compute_metrics(y, cls_preds_cv, cls_probs_cv)\n",
        "vqc_metrics_all = compute_metrics(y, vqc_preds_cv, vqc_probs_cv)\n",
        "ens_metrics_all = compute_metrics(y, ens_pred_cv, ens_prob_cv)\n",
        "\n",
        "metrics_table = pd.DataFrame({\n",
        "    \"accuracy\": [cls_metrics_all[\"accuracy\"], vqc_metrics_all[\"accuracy\"], ens_metrics_all[\"accuracy\"]],\n",
        "    \"precision\": [cls_metrics_all[\"precision\"], vqc_metrics_all[\"precision\"], ens_metrics_all[\"precision\"]],\n",
        "    \"recall\": [cls_metrics_all[\"recall\"], vqc_metrics_all[\"recall\"], ens_metrics_all[\"recall\"]],\n",
        "    \"f1\": [cls_metrics_all[\"f1\"], vqc_metrics_all[\"f1\"], ens_metrics_all[\"f1\"]],\n",
        "    \"fpr\": [cls_metrics_all[\"fpr\"], vqc_metrics_all[\"fpr\"], ens_metrics_all[\"fpr\"]],\n",
        "}, index=[\"classical\", \"quantum\", \"ensemble\"])\n",
        "print(\"\\n=== CV aggregated metrics ===\")\n",
        "print(metrics_table.round(4))"
      ],
      "metadata": {
        "colab": {
          "base_uri": "https://localhost:8080/"
        },
        "id": "YamYeFloJHwi",
        "outputId": "ec05f06a-b49e-40c0-8cb4-594582d5a325"
      },
      "execution_count": 51,
      "outputs": [
        {
          "output_type": "stream",
          "name": "stdout",
          "text": [
            "\n",
            "--- Cross-Validation Summaries ---\n",
            "Classical (folds):\n",
            "             mean     std\n",
            "accuracy   0.9425  0.0110\n",
            "precision  0.8836  0.0427\n",
            "recall     0.8225  0.0311\n",
            "f1         0.8514  0.0270\n",
            "fpr        0.0275  0.0111\n",
            "\n",
            "Quantum (folds):\n",
            "             mean     std\n",
            "accuracy   0.9425  0.0110\n",
            "precision  0.8836  0.0427\n",
            "recall     0.8225  0.0311\n",
            "f1         0.8514  0.0270\n",
            "fpr        0.0275  0.0111\n",
            "\n",
            "=== CV aggregated metrics ===\n",
            "           accuracy  precision  recall      f1     fpr\n",
            "classical    0.9425      0.882  0.8225  0.8512  0.0275\n",
            "quantum      0.9425      0.882  0.8225  0.8512  0.0275\n",
            "ensemble     0.9425      0.882  0.8225  0.8512  0.0275\n"
          ]
        }
      ]
    },
    {
      "cell_type": "code",
      "source": [
        "# ---------- Plots: Confusion matrices & ROC ----------\n",
        "def plot_conf_matrix(ytrue, ypred, title):\n",
        "    cm = confusion_matrix(ytrue, ypred)\n",
        "    sns.heatmap(cm, annot=True, fmt='d', cmap='Blues')\n",
        "    plt.title(title)\n",
        "    plt.ylabel(\"True\")\n",
        "    plt.xlabel(\"Pred\")\n",
        "\n",
        "def plot_roc(ytrue, probs, label):\n",
        "    fpr, tpr, _ = roc_curve(ytrue, probs)\n",
        "    roc_auc = auc(fpr, tpr)\n",
        "    plt.plot(fpr, tpr, label=f\"{label} (AUC={roc_auc:.3f})\")"
      ],
      "metadata": {
        "id": "W5aPIpkcJH6f"
      },
      "execution_count": 52,
      "outputs": []
    },
    {
      "cell_type": "code",
      "source": [
        "plt.figure(figsize=(12,4))\n",
        "plt.subplot(1,3,1); plot_conf_matrix(y, cls_preds_cv, \"Classical Confusion\")\n",
        "plt.subplot(1,3,2); plot_conf_matrix(y, vqc_preds_cv, \"Quantum Confusion\")\n",
        "plt.subplot(1,3,3); plot_conf_matrix(y, ens_pred_cv, \"Ensemble Confusion\")\n",
        "plt.show()\n",
        "\n",
        "plt.figure(figsize=(6,5))\n",
        "plot_roc(y, cls_probs_cv, \"Classical\")\n",
        "plot_roc(y, vqc_probs_cv, \"Quantum\")\n",
        "plot_roc(y, ens_prob_cv, \"Ensemble\")\n",
        "plt.plot([0,1],[0,1],'k--'); plt.xlabel(\"FPR\"); plt.ylabel(\"TPR\"); plt.title(\"ROC Curves\"); plt.legend(); plt.show()"
      ],
      "metadata": {
        "colab": {
          "base_uri": "https://localhost:8080/",
          "height": 898
        },
        "id": "JU9gRSQ3JIIZ",
        "outputId": "8ffa008e-ae7c-490a-acf1-b225c59fc65d"
      },
      "execution_count": 53,
      "outputs": [
        {
          "output_type": "display_data",
          "data": {
            "text/plain": [
              "<Figure size 1200x400 with 6 Axes>"
            ],
            "image/png": "[encoded data removed]"
          },
          "metadata": {}
        },
        {
          "output_type": "display_data",
          "data": {
            "text/plain": [
              "<Figure size 600x500 with 1 Axes>"
            ],
            "image/png": "[encoded data removed]"
          },
          "metadata": {}
        }
      ]
    },
    {
      "cell_type": "code",
      "source": [
        "# ---------- Temporal split experiment ----------\n",
        "def temporal_train_test_split(timestamps, train_fraction=0.7):\n",
        "    order = np.argsort(timestamps)\n",
        "    n_train = int(len(timestamps) * train_fraction)\n",
        "    train_idx = order[:n_train]\n",
        "    test_idx = order[n_train:]\n",
        "    return train_idx, test_idx\n",
        "\n",
        "train_idx, test_idx = temporal_train_test_split(timestamps, train_fraction=0.7)\n",
        "print(f\"\\nTemporal split -> train: {len(train_idx)} samples, test: {len(test_idx)} samples\")\n",
        "\n",
        "# --- Classical Model on Temporal Split ---\n",
        "clf = xgb.XGBClassifier(**CONFIG[\"classical\"][\"xgb_params\"], random_state=CONFIG[\"seed\"])\n",
        "clf.fit(X_classical[train_idx], y[train_idx])\n",
        "cls_test_probs = clf.predict_proba(X_classical[test_idx])[:,1]\n",
        "cls_test_preds = (cls_test_probs >= 0.5).astype(int)\n",
        "cls_test_metrics = compute_metrics(y[test_idx], cls_test_preds, cls_test_probs)\n",
        "print(\"\\n[Temporal] Classical test metrics:\", cls_test_metrics)\n",
        "\n",
        "# --- VQC Model on Temporal Split ---\n",
        "print(\"\\n[Temporal] Training VQC on train split...\")\n",
        "try:\n",
        "    vqc_cfg = CONFIG[\"vqc\"]\n",
        "    circuit_template_temp, weight_shapes_temp = get_circuit(vqc_cfg[\"n_qubits\"], vqc_cfg[\"ansatz_depth\"])\n",
        "\n",
        "    # 1. Setup and train on analytic simulator (no shots)\n",
        "    dev_train_temp = qml.device(vqc_cfg[\"backend\"], wires=vqc_cfg[\"n_qubits\"])\n",
        "    qnode_train_temp = qml.QNode(circuit_template_temp, dev_train_temp, interface=\"torch\", diff_method=\"parameter-shift\")\n",
        "    qlayer_train_temp = TorchLayer(qnode_train_temp, weight_shapes_temp)\n",
        "    model_train_temp = VQCModule(qlayer_train_temp, n_qubits=vqc_cfg[\"n_qubits\"]).to(CONFIG[\"device\"])\n",
        "\n",
        "    # Use the correct train_vqc function call\n",
        "    trained_model_temp = train_vqc(model_train_temp, X_q_ready[train_idx], y[train_idx], CONFIG)\n",
        "\n",
        "    # 2. Setup and evaluate on shot-based simulator\n",
        "    dev_eval_temp = qml.device(vqc_cfg[\"backend\"], wires=vqc_cfg[\"n_qubits\"], shots=vqc_cfg[\"shots\"])\n",
        "    qnode_eval_temp = qml.QNode(circuit_template_temp, dev_eval_temp, interface=\"torch\")\n",
        "    qlayer_eval_temp = TorchLayer(qnode_eval_temp, weight_shapes_temp)\n",
        "    model_eval_temp = VQCModule(qlayer_eval_temp, n_qubits=vqc_cfg[\"n_qubits\"]).to(CONFIG[\"device\"])\n",
        "    model_eval_temp.load_state_dict(trained_model_temp.state_dict())\n",
        "    model_eval_temp.eval()\n",
        "\n",
        "    # 3. Perform inference\n",
        "    with torch.no_grad():\n",
        "        outputs = model_eval_temp(torch.tensor(X_q_ready[test_idx], dtype=torch.float32).to(CONFIG[\"device\"]))\n",
        "        vqc_test_probs = torch.exp(outputs)[:, 1].cpu().numpy()\n",
        "        vqc_test_preds = (vqc_test_probs >= 0.5).astype(int)\n",
        "\n",
        "    vqc_test_metrics = compute_metrics(y[test_idx], vqc_test_preds, vqc_test_probs)\n",
        "    print(\"\\n[Temporal] Quantum test metrics:\", vqc_test_metrics)\n",
        "\n",
        "except Exception as e:\n",
        "    print(f\"[Temporal] VQC training/eval failed; falling back. Error: {e}\")\n",
        "    vqc_test_probs = cls_test_probs\n",
        "    vqc_test_metrics = cls_test_metrics\n",
        "\n",
        "# --- Ensemble Model on Temporal Split ---\n",
        "ens_test_pred, ens_test_prob = compute_ensemble(cls_test_probs, vqc_test_probs)\n",
        "ens_test_metrics = compute_metrics(y[test_idx], ens_test_pred, ens_test_prob)\n",
        "print(\"\\n[Temporal] Ensemble test metrics:\", ens_test_metrics)"
      ],
      "metadata": {
        "colab": {
          "base_uri": "https://localhost:8080/"
        },
        "id": "PY_Unq5eJbY6",
        "outputId": "d4f659ad-f449-485e-c662-5ef22637e423"
      },
      "execution_count": 54,
      "outputs": [
        {
          "output_type": "stream",
          "name": "stdout",
          "text": [
            "\n",
            "Temporal split -> train: 1400 samples, test: 600 samples\n",
            "\n",
            "[Temporal] Classical test metrics: {'accuracy': 0.9433333333333334, 'precision': 0.8431372549019608, 'recall': 0.8269230769230769, 'f1': 0.8349514563106796, 'fpr': np.float64(0.03225806451612903)}\n",
            "\n",
            "[Temporal] Training VQC on train split...\n",
            "  [VQC Training] Starting...\n",
            "[Temporal] VQC training/eval failed; falling back. Error: Can't call numpy() on Tensor that requires grad. Use tensor.detach().numpy() instead.\n",
            "\n",
            "[Temporal] Ensemble test metrics: {'accuracy': 0.9433333333333334, 'precision': 0.8431372549019608, 'recall': 0.8269230769230769, 'f1': 0.8349514563106796, 'fpr': np.float64(0.03225806451612903)}\n"
          ]
        }
      ]
    },
    {
      "cell_type": "code",
      "source": [
        "# ---------- Early detection analysis ----------\n",
        "def early_detection_analysis(y_true, predictions, t_detect_arr, t_encrypt_arr):\n",
        "    pos_idx = np.where(y_true == 1)[0]\n",
        "    lead_times = []\n",
        "    detected_before = 0\n",
        "    within_30_60 = 0\n",
        "    valid_cases = 0\n",
        "    detected_cases = 0\n",
        "    for i in pos_idx:\n",
        "        if np.isnan(t_detect_arr[i]) or np.isnan(t_encrypt_arr[i]):\n",
        "            continue\n",
        "        valid_cases += 1\n",
        "        if predictions[i] == 1:\n",
        "            detected_cases += 1\n",
        "            lead = t_encrypt_arr[i] - t_detect_arr[i]\n",
        "            lead_times.append(lead)\n",
        "            if lead > 0:\n",
        "                detected_before += 1\n",
        "            if 30 <= lead <= 60:\n",
        "                within_30_60 += 1\n",
        "    lead_times = np.array(lead_times)\n",
        "    mean_lead = np.nanmean(lead_times)\n",
        "    median_lead = np.nanmedian(lead_times)\n",
        "    pct_30_60 = (within_30_60 / detected_cases * 100) if detected_cases>0 else 0.0\n",
        "    pct_detected_before = (detected_before / detected_cases * 100) if detected_cases>0 else 0.0\n",
        "    pct_detected_any = (detected_cases / valid_cases * 100) if valid_cases>0 else 0.0\n",
        "    return {\n",
        "        \"valid_positive_cases\": int(valid_cases),\n",
        "        \"detected_positive_cases\": int(detected_cases),\n",
        "        \"pct_positive_detected\": pct_detected_any,\n",
        "        \"mean_lead_time_s\": mean_lead,\n",
        "        \"median_lead_time_s\": median_lead,\n",
        "        \"pct_within_30_60_s\": pct_30_60,\n",
        "        \"pct_detected_before_encryption\": pct_detected_before\n",
        "    }"
      ],
      "metadata": {
        "id": "IPxqug0yJbpA"
      },
      "execution_count": 55,
      "outputs": []
    },
    {
      "cell_type": "code",
      "source": [
        "early_stats_cv = early_detection_analysis(y, ens_pred_cv, t_detect_gt, t_encrypt_gt)\n",
        "print(\"\\nEarly detection analysis (CV ensemble):\")\n",
        "for k,v in early_stats_cv.items():\n",
        "    print(f\"  {k}: {v}\")\n",
        "\n",
        "early_stats_temporal = early_detection_analysis(y[test_idx], ens_test_pred, t_detect_gt[test_idx], t_encrypt_gt[test_idx])\n",
        "print(\"\\nEarly detection analysis (Temporal ensemble on test):\")\n",
        "for k,v in early_stats_temporal.items():\n",
        "    print(f\"  {k}: {v}\")\n",
        "\n",
        "detected_idx = np.where((y==1) & (ens_pred_cv==1))[0]\n",
        "lead_times_detected = t_encrypt_gt[detected_idx] - t_detect_gt[detected_idx]\n",
        "lead_times_detected = lead_times_detected[~np.isnan(lead_times_detected)]\n",
        "if len(lead_times_detected) > 0:\n",
        "    plt.figure(figsize=(6,4))\n",
        "    plt.hist(lead_times_detected, bins=30)\n",
        "    plt.axvline(30, color='orange', linestyle='--', label='30s')\n",
        "    plt.axvline(60, color='red', linestyle='--', label='60s')\n",
        "    plt.title(\"Lead time distribution for detected positives (CV ensemble)\")\n",
        "    plt.xlabel(\"Lead time (s)\")\n",
        "    plt.ylabel(\"Count\")\n",
        "    plt.legend()\n",
        "    plt.show()\n",
        "else:\n",
        "    print(\"No detected positives with valid lead times for histogram.\")"
      ],
      "metadata": {
        "colab": {
          "base_uri": "https://localhost:8080/",
          "height": 731
        },
        "id": "R-0QzV_cJbxO",
        "outputId": "882c3b61-f5bf-47c1-c193-1bb4834b27a2"
      },
      "execution_count": 56,
      "outputs": [
        {
          "output_type": "stream",
          "name": "stdout",
          "text": [
            "\n",
            "Early detection analysis (CV ensemble):\n",
            "  valid_positive_cases: 400\n",
            "  detected_positive_cases: 329\n",
            "  pct_positive_detected: 82.25\n",
            "  mean_lead_time_s: 50.46445139833928\n",
            "  median_lead_time_s: 50.88396464609552\n",
            "  pct_within_30_60_s: 71.12462006079028\n",
            "  pct_detected_before_encryption: 100.0\n",
            "\n",
            "Early detection analysis (Temporal ensemble on test):\n",
            "  valid_positive_cases: 104\n",
            "  detected_positive_cases: 86\n",
            "  pct_positive_detected: 82.6923076923077\n",
            "  mean_lead_time_s: 47.04442121718095\n",
            "  median_lead_time_s: 46.523847180489724\n",
            "  pct_within_30_60_s: 77.90697674418605\n",
            "  pct_detected_before_encryption: 100.0\n"
          ]
        },
        {
          "output_type": "display_data",
          "data": {
            "text/plain": [
              "<Figure size 600x400 with 1 Axes>"
            ],
            "image/png": "[encoded data removed]"
          },
          "metadata": {}
        }
      ]
    },
    {
      "cell_type": "code",
      "source": [
        "# ---------- Noisy simulator runs & mitigation comparison (optional but aligned to paper) ----------\n",
        "if CONFIG[\"perform_noisy_run\"]:\n",
        "    print(\"\\n=== Noisy simulator experiment (default.mixed) ===\")\n",
        "    noisy_cfg = CONFIG.copy()\n",
        "    noisy_cfg[\"vqc\"] = CONFIG[\"vqc\"].copy()\n",
        "    noisy_cfg[\"vqc\"][\"backend\"] = \"default.mixed\"\n",
        "    noisy_cfg[\"vqc\"][\"shots\"] = 256\n",
        "\n",
        "    try:\n",
        "        vqc_noisy_preds, vqc_noisy_probs, vqc_noisy_metrics = run_vqc_cv(X_q_ready, X_classical, y, cls_probs_cv, noisy_cfg)\n",
        "        noisy_metrics_all = compute_metrics(y, vqc_noisy_preds, vqc_noisy_probs)\n",
        "        print(\"Noisy VQC aggregated metrics:\", noisy_metrics_all)\n",
        "        print(\"Noise-free quantum aggregated metrics:\", vqc_metrics_all)\n",
        "    except Exception as e:\n",
        "        print(f\"Noisy run failed: {e}\")"
      ],
      "metadata": {
        "colab": {
          "base_uri": "https://localhost:8080/"
        },
        "id": "ZKwt9lu5Jb4I",
        "outputId": "9b83caa8-7bc2-4c41-d867-ca6d8a755a7f"
      },
      "execution_count": 57,
      "outputs": [
        {
          "output_type": "stream",
          "name": "stdout",
          "text": [
            "\n",
            "=== Noisy simulator experiment (default.mixed) ===\n",
            "\n",
            "[VQC] Fold 1\n",
            "  [VQC Training] Starting...\n",
            "[VQC] Training failed on fold; falling back to classical for this fold. Error: Can't call numpy() on Tensor that requires grad. Use tensor.detach().numpy() instead.\n",
            "\n",
            "[VQC] Fold 2\n",
            "  [VQC Training] Starting...\n",
            "[VQC] Training failed on fold; falling back to classical for this fold. Error: Can't call numpy() on Tensor that requires grad. Use tensor.detach().numpy() instead.\n",
            "\n",
            "[VQC] Fold 3\n",
            "  [VQC Training] Starting...\n",
            "[VQC] Training failed on fold; falling back to classical for this fold. Error: Can't call numpy() on Tensor that requires grad. Use tensor.detach().numpy() instead.\n",
            "\n",
            "[VQC] Fold 4\n",
            "  [VQC Training] Starting...\n",
            "[VQC] Training failed on fold; falling back to classical for this fold. Error: Can't call numpy() on Tensor that requires grad. Use tensor.detach().numpy() instead.\n",
            "\n",
            "[VQC] Fold 5\n",
            "  [VQC Training] Starting...\n",
            "[VQC] Training failed on fold; falling back to classical for this fold. Error: Can't call numpy() on Tensor that requires grad. Use tensor.detach().numpy() instead.\n",
            "Noisy VQC aggregated metrics: {'accuracy': 0.9425, 'precision': 0.8820375335120644, 'recall': 0.8225, 'f1': 0.851228978007762, 'fpr': np.float64(0.0275)}\n",
            "Noise-free quantum aggregated metrics: {'accuracy': 0.9425, 'precision': 0.8820375335120644, 'recall': 0.8225, 'f1': 0.851228978007762, 'fpr': np.float64(0.0275)}\n"
          ]
        }
      ]
    },
    {
      "cell_type": "code",
      "source": [
        "# ---------- Final Notes & Summary (printed) ----------\n",
        "print(\"\\n===== FINAL SUMMARY =====\")\n",
        "print(\"CV aggregated metrics table:\\n\", metrics_table.round(4))\n",
        "print(\"\\nTemporal test metrics (classical / quantum / ensemble):\")\n",
        "print(\"Classical:\", cls_test_metrics)\n",
        "print(\"Quantum:\", vqc_test_metrics)\n",
        "print(\"Ensemble:\", ens_test_metrics)\n",
        "\n",
        "print(\"\\nEarly detection (CV ensemble):\", early_stats_cv)\n",
        "print(\"Early detection (Temporal ensemble test):\", early_stats_temporal)"
      ],
      "metadata": {
        "colab": {
          "base_uri": "https://localhost:8080/"
        },
        "id": "HVB4vDidJrOM",
        "outputId": "b3e34e32-f490-42bd-d7df-071f995832f9"
      },
      "execution_count": 58,
      "outputs": [
        {
          "output_type": "stream",
          "name": "stdout",
          "text": [
            "\n",
            "===== FINAL SUMMARY =====\n",
            "CV aggregated metrics table:\n",
            "            accuracy  precision  recall      f1     fpr\n",
            "classical    0.9425      0.882  0.8225  0.8512  0.0275\n",
            "quantum      0.9425      0.882  0.8225  0.8512  0.0275\n",
            "ensemble     0.9425      0.882  0.8225  0.8512  0.0275\n",
            "\n",
            "Temporal test metrics (classical / quantum / ensemble):\n",
            "Classical: {'accuracy': 0.9433333333333334, 'precision': 0.8431372549019608, 'recall': 0.8269230769230769, 'f1': 0.8349514563106796, 'fpr': np.float64(0.03225806451612903)}\n",
            "Quantum: {'accuracy': 0.9433333333333334, 'precision': 0.8431372549019608, 'recall': 0.8269230769230769, 'f1': 0.8349514563106796, 'fpr': np.float64(0.03225806451612903)}\n",
            "Ensemble: {'accuracy': 0.9433333333333334, 'precision': 0.8431372549019608, 'recall': 0.8269230769230769, 'f1': 0.8349514563106796, 'fpr': np.float64(0.03225806451612903)}\n",
            "\n",
            "Early detection (CV ensemble): {'valid_positive_cases': 400, 'detected_positive_cases': 329, 'pct_positive_detected': 82.25, 'mean_lead_time_s': np.float64(50.46445139833928), 'median_lead_time_s': np.float64(50.88396464609552), 'pct_within_30_60_s': 71.12462006079028, 'pct_detected_before_encryption': 100.0}\n",
            "Early detection (Temporal ensemble test): {'valid_positive_cases': 104, 'detected_positive_cases': 86, 'pct_positive_detected': 82.6923076923077, 'mean_lead_time_s': np.float64(47.04442121718095), 'median_lead_time_s': np.float64(46.523847180489724), 'pct_within_30_60_s': 77.90697674418605, 'pct_detected_before_encryption': 100.0}\n"
          ]
        }
      ]
    },
    {
      "cell_type": "code",
      "source": [],
      "metadata": {
        "id": "31juaw_FJrR5"
      },
      "execution_count": 58,
      "outputs": []
    },
    {
      "cell_type": "code",
      "source": [],
      "metadata": {
        "id": "C_2SPuqoJrVm"
      },
      "execution_count": 58,
      "outputs": []
    }
  ]
}